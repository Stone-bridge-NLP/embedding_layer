{
  "nbformat": 4,
  "nbformat_minor": 0,
  "metadata": {
    "colab": {
      "name": "main.ipynb",
      "provenance": [],
      "collapsed_sections": []
    },
    "kernelspec": {
      "name": "python3",
      "display_name": "Python 3"
    },
    "language_info": {
      "name": "python"
    },
    "accelerator": "GPU"
  },
  "cells": [
    {
      "cell_type": "markdown",
      "metadata": {
        "id": "MzzjchSKqnhr"
      },
      "source": [
        "# 데이터셋 다운로드\n",
        "- 아래의 데이터들을 다운로드 후, colab 세션 저장소에 업로드하여 사용\n",
        " - [train data](https://drive.google.com/file/d/16dY9fTOyBnx1TvIzmbjbLmUZ2n6HbjqZ/view?usp=sharing)\n",
        " - [test data](https://drive.google.com/file/d/168qGvi5w4Wwgu5QTpPoLkZzoJNAgyc6b/view?usp=sharing)\n",
        "\n",
        "- 혹은 훈련된 모델을 직접 다운로드 (모델 테스트를 하기 위해선 테스트 데이터 다운로드 필요)\n",
        " - [best_model_balanced_dropout2.h5](https://drive.google.com/file/d/1HPh-bbwSwh5vs9zif0CPDT0-ZErBrUYL/view?usp=sharing)"
      ]
    },
    {
      "cell_type": "code",
      "metadata": {
        "id": "DjrWOIaVpHkB"
      },
      "source": [
        "# Loading dataset\n",
        "import pandas as pd\n",
        "train = pd.read_csv('./balanced_train_data.csv')\n",
        "test = pd.read_csv('./preprocessed_test_data.csv')"
      ],
      "execution_count": 5,
      "outputs": []
    },
    {
      "cell_type": "code",
      "metadata": {
        "colab": {
          "base_uri": "https://localhost:8080/",
          "height": 444
        },
        "id": "eZPIU7J1qPdn",
        "outputId": "cae14281-8a66-463b-86bf-a0f389eb03c5"
      },
      "source": [
        "# train 데이터셋 확인\n",
        "import seaborn as sns\n",
        "print(train.head())\n",
        "sns.countplot(train['Genre'])"
      ],
      "execution_count": 9,
      "outputs": [
        {
          "output_type": "stream",
          "name": "stdout",
          "text": [
            "   Unnamed: 0    Genre                                             Lyrics\n",
            "0           0  Country  my christmas list grows shorter every year thi...\n",
            "1           1  Country  it keeps running down the tear stained face of...\n",
            "2           2  Country  chestnuts roasting on an open fire jack frost ...\n",
            "3           3  Country  go tell it on the mountain over the hills and ...\n",
            "4           4  Country  i work down at ashbury hill minimum wage but i...\n"
          ]
        },
        {
          "output_type": "stream",
          "name": "stderr",
          "text": [
            "/usr/local/lib/python3.7/dist-packages/seaborn/_decorators.py:43: FutureWarning: Pass the following variable as a keyword arg: x. From version 0.12, the only valid positional argument will be `data`, and passing other arguments without an explicit keyword will result in an error or misinterpretation.\n",
            "  FutureWarning\n"
          ]
        },
        {
          "output_type": "execute_result",
          "data": {
            "text/plain": [
              "<matplotlib.axes._subplots.AxesSubplot at 0x7f683ceeffd0>"
            ]
          },
          "metadata": {},
          "execution_count": 9
        },
        {
          "output_type": "display_data",
          "data": {
            "image/png": "[encoded data removed]",
            "text/plain": [
              "<Figure size 432x288 with 1 Axes>"
            ]
          },
          "metadata": {
            "needs_background": "light"
          }
        }
      ]
    },
    {
      "cell_type": "code",
      "metadata": {
        "colab": {
          "base_uri": "https://localhost:8080/",
          "height": 444
        },
        "id": "FKjHxXI7qVCf",
        "outputId": "a66de174-1fa1-4373-c1b9-ba42b2641d7c"
      },
      "source": [
        "print(test.head())\n",
        "sns.countplot(test['Genre'])"
      ],
      "execution_count": 10,
      "outputs": [
        {
          "output_type": "stream",
          "name": "stdout",
          "text": [
            "   Unnamed: 0    Genre                                             Lyrics\n",
            "0           0  Hip-Hop  most folks spend their days daydreaming of fin...\n",
            "1           1    Indie  take your cold hands and put them on my face s...\n",
            "2           2    Metal  are you ready it s time for war we ll break do...\n",
            "3           3      Pop  you ask me why i change the color of my hair y...\n",
            "4           4  Hip-Hop  do you believe in magic in a young girl s hear...\n"
          ]
        },
        {
          "output_type": "stream",
          "name": "stderr",
          "text": [
            "/usr/local/lib/python3.7/dist-packages/seaborn/_decorators.py:43: FutureWarning: Pass the following variable as a keyword arg: x. From version 0.12, the only valid positional argument will be `data`, and passing other arguments without an explicit keyword will result in an error or misinterpretation.\n",
            "  FutureWarning\n"
          ]
        },
        {
          "output_type": "execute_result",
          "data": {
            "text/plain": [
              "<matplotlib.axes._subplots.AxesSubplot at 0x7f683ce259d0>"
            ]
          },
          "metadata": {},
          "execution_count": 10
        },
        {
          "output_type": "display_data",
          "data": {
            "image/png": "[encoded data removed]",
            "text/plain": [
              "<Figure size 432x288 with 1 Axes>"
            ]
          },
          "metadata": {
            "needs_background": "light"
          }
        }
      ]
    },
    {
      "cell_type": "code",
      "metadata": {
        "id": "lK0D8GI8sp9l"
      },
      "source": [
        "import numpy as np\n",
        "# X_train, y_train 형태로 만들기\n",
        "# X_train\n",
        "X_train = []\n",
        "for lyric in train['Lyrics']:\n",
        "  words = lyric.split()\n",
        "  X_train.append(words)\n",
        "\n",
        "# y_train\n",
        "y_train = np.array(train['Genre'])\n",
        "\n",
        "# X_test\n",
        "X_test = []\n",
        "for lyric in test['Lyrics']:\n",
        "  words = lyric.split()\n",
        "  X_test.append(words)\n",
        "\n",
        "# y_test\n",
        "y_test = np.array(test['Genre'])"
      ],
      "execution_count": 11,
      "outputs": []
    },
    {
      "cell_type": "code",
      "metadata": {
        "colab": {
          "base_uri": "https://localhost:8080/"
        },
        "id": "v3nO1Gccsrvn",
        "outputId": "62af3b73-9729-4bd2-8e86-6bc4f8ac3ed7"
      },
      "source": [
        "# 정수 인코딩\n",
        "from tensorflow.keras.preprocessing.text import Tokenizer\n",
        "\n",
        "tokenizer = Tokenizer()\n",
        "tokenizer.fit_on_texts(X_train)\n",
        "print('단어집합의 크기: ', len(tokenizer.word_index))"
      ],
      "execution_count": 12,
      "outputs": [
        {
          "output_type": "stream",
          "name": "stdout",
          "text": [
            "단어집합의 크기:  52008\n"
          ]
        }
      ]
    },
    {
      "cell_type": "code",
      "metadata": {
        "id": "VjIkiEbFstxg"
      },
      "source": [
        "# 등장 빈도수가 THRESHOLD 미만인 단어가 얼만큼의 비중을 차지하는지 확인\n",
        "def GetRareWordRatio(vocab, threshold):\n",
        "  total_cnt = len(vocab.word_index)\n",
        "  rare_cnt = 0\n",
        "  total_freq = 0\n",
        "  rare_freq = 0\n",
        "\n",
        "  for key, value in vocab.word_counts.items():\n",
        "    total_freq += value\n",
        "    if (value < threshold):\n",
        "      rare_cnt += 1\n",
        "      rare_freq += value\n",
        "  \n",
        "  print('단어 집합(vocabulary)의 크기 :',total_cnt)\n",
        "  print('등장 빈도가 %s번 미만인 희귀 단어의 수: %s'%(threshold, rare_cnt))\n",
        "  print(\"단어 집합에서 희귀 단어의 비율:\", (rare_cnt / total_cnt)*100)\n",
        "  print(\"전체 등장 빈도에서 희귀 단어 등장 빈도 비율:\", (rare_freq / total_freq)*100)"
      ],
      "execution_count": 13,
      "outputs": []
    },
    {
      "cell_type": "code",
      "metadata": {
        "colab": {
          "base_uri": "https://localhost:8080/"
        },
        "id": "WFOzFB1xsvYQ",
        "outputId": "5eb4c83a-ed51-49d6-e72b-e29f81e133d0"
      },
      "source": [
        "# threshold = 5 확인\n",
        "GetRareWordRatio(tokenizer, 5)"
      ],
      "execution_count": 14,
      "outputs": [
        {
          "output_type": "stream",
          "name": "stdout",
          "text": [
            "단어 집합(vocabulary)의 크기 : 52008\n",
            "등장 빈도가 5번 미만인 희귀 단어의 수: 34755\n",
            "단어 집합에서 희귀 단어의 비율: 66.82625749884633\n",
            "전체 등장 빈도에서 희귀 단어 등장 빈도 비율: 1.285983740310148\n"
          ]
        }
      ]
    },
    {
      "cell_type": "markdown",
      "metadata": {
        "id": "cFl50EJLswzx"
      },
      "source": [
        "train 데이터셋에서 등장 빈도가 *5번* 미만인 희귀 단어는 전체 데이터셋에서 1% 정도 등장하지만, 전체 단어 집합에서 66% 이상을 차지한다.   \n",
        "이들을 제외함으로써 단어집합의 크기를 크게 줄일 수 있다.\n"
      ]
    },
    {
      "cell_type": "code",
      "metadata": {
        "colab": {
          "base_uri": "https://localhost:8080/"
        },
        "id": "Do7E8bhQtToh",
        "outputId": "7daa269d-7536-42c1-a3ea-d47f01cab31a"
      },
      "source": [
        "vocab_size = 52008 - 34755 + 2  # unk, pad 토큰을 고려하여 +2\n",
        "print('vocab_size: ', vocab_size)"
      ],
      "execution_count": 15,
      "outputs": [
        {
          "output_type": "stream",
          "name": "stdout",
          "text": [
            "vocab_size:  17255\n"
          ]
        }
      ]
    },
    {
      "cell_type": "code",
      "metadata": {
        "id": "FvZR60YctbUF"
      },
      "source": [
        "tokenizer = Tokenizer(num_words = vocab_size, oov_token = 'OOV')\n",
        "tokenizer.fit_on_texts(X_train)"
      ],
      "execution_count": 16,
      "outputs": []
    },
    {
      "cell_type": "code",
      "metadata": {
        "id": "5kuY2Z2ltdbI"
      },
      "source": [
        "# 이렇게 만든 단어집합으로 가사를 정수인코딩\n",
        "X_train = tokenizer.texts_to_sequences(X_train)\n",
        "X_test = tokenizer.texts_to_sequences(X_test)"
      ],
      "execution_count": 17,
      "outputs": []
    },
    {
      "cell_type": "code",
      "metadata": {
        "id": "ZySpa3vQtijQ"
      },
      "source": [
        "# y 정수 인코딩\n",
        "label_vocab = {'Hip-Hop': 0,\n",
        "               'Indie': 1,\n",
        "               'Metal': 2,\n",
        "               'Pop': 3,\n",
        "               'Country': 4,\n",
        "               'Jazz': 5,\n",
        "               'Rock': 6,\n",
        "               'R&B': 7,\n",
        "               'Electronic': 8,\n",
        "               'Folk': 9}\n",
        "\n",
        "# y_train\n",
        "y_train_encoded = []\n",
        "for word in y_train:\n",
        "  y_train_encoded.append(label_vocab[word])\n",
        "\n",
        "y_train = np.array(y_train_encoded)\n",
        "\n",
        "# y_test\n",
        "y_test_encoded = []\n",
        "for word in y_test:\n",
        "  y_test_encoded.append(label_vocab[word])\n",
        "\n",
        "y_test = np.array(y_test_encoded)"
      ],
      "execution_count": 18,
      "outputs": []
    },
    {
      "cell_type": "code",
      "metadata": {
        "colab": {
          "base_uri": "https://localhost:8080/",
          "height": 316
        },
        "id": "StVl_j5AtkrM",
        "outputId": "49b6cf13-bc05-435b-a8da-fb7381644743"
      },
      "source": [
        "%matplotlib inline\n",
        "import matplotlib.pyplot as plt\n",
        "# 훈련 데이터의 가사 길이 분포 확인\n",
        "print('max length : ', max(len(i) for i in X_train))\n",
        "print('average length : ', sum(map(len, X_train))/len(X_train))\n",
        "\n",
        "plt.hist([len(s) for s in X_train], bins=200, alpha=0.5, color='r')\n",
        "plt.xlabel('length of samples')\n",
        "plt.ylabel('number of samples')\n",
        "plt.show()"
      ],
      "execution_count": 19,
      "outputs": [
        {
          "output_type": "stream",
          "name": "stdout",
          "text": [
            "max length :  2106\n",
            "average length :  262.97975031360136\n"
          ]
        },
        {
          "output_type": "display_data",
          "data": {
            "image/png": "[encoded data removed]",
            "text/plain": [
              "<Figure size 432x288 with 1 Axes>"
            ]
          },
          "metadata": {
            "needs_background": "light"
          }
        }
      ]
    },
    {
      "cell_type": "code",
      "metadata": {
        "id": "hb_42Y-mtpcY"
      },
      "source": [
        "# 전체 샘플 중 길이가 max_len이하인 샘플의 비율이 몇 %인지 확인하는 함수\n",
        "def below_threshold_len(max_len, nested_list):\n",
        "  cnt = 0\n",
        "  for s in nested_list:\n",
        "    if(len(s) <= max_len):\n",
        "        cnt = cnt + 1\n",
        "  print('전체 샘플 중 길이가 %s 이하인 샘플의 비율: %s'%(max_len, (cnt / len(nested_list))*100))"
      ],
      "execution_count": 20,
      "outputs": []
    },
    {
      "cell_type": "code",
      "metadata": {
        "colab": {
          "base_uri": "https://localhost:8080/"
        },
        "id": "jVrht3katqKF",
        "outputId": "09efcbb4-7bf3-41b4-8f38-e7b247511650"
      },
      "source": [
        "below_threshold_len(500, X_train)\n",
        "below_threshold_len(500, X_test)"
      ],
      "execution_count": 21,
      "outputs": [
        {
          "output_type": "stream",
          "name": "stdout",
          "text": [
            "전체 샘플 중 길이가 500 이하인 샘플의 비율: 90.80102741771698\n",
            "전체 샘플 중 길이가 500 이하인 샘플의 비율: 91.4649520927887\n"
          ]
        }
      ]
    },
    {
      "cell_type": "markdown",
      "metadata": {
        "id": "bArquwtmtr1p"
      },
      "source": [
        "샘플의 길이를 지나치게 크게 잡을경우 딥러닝 모델 학습시 사용되는 메모리가 지나치게 커진다.    \n",
        "따라서 학습에 사용할 문장의 길이를 전체 샘플의 90% 이상에 해당하는 길이인 500로 결정한다."
      ]
    },
    {
      "cell_type": "code",
      "metadata": {
        "id": "7DO1yKPCt9k0"
      },
      "source": [
        "from tensorflow.keras.preprocessing.sequence import pad_sequences\n",
        "FIX_LEN = 500\n",
        "X_train = pad_sequences(X_train, FIX_LEN)\n",
        "X_test = pad_sequences(X_test, FIX_LEN)"
      ],
      "execution_count": 22,
      "outputs": []
    },
    {
      "cell_type": "code",
      "metadata": {
        "id": "1hT4xtwxuABI"
      },
      "source": [
        "# 데이터를 랜덤한 순서로 섞어준다.\n",
        "s = np.arange(X_train.shape[0])\n",
        "np.random.shuffle(s)\n",
        "\n",
        "X_train = X_train[s]\n",
        "y_train = y_train[s]"
      ],
      "execution_count": 23,
      "outputs": []
    },
    {
      "cell_type": "code",
      "metadata": {
        "colab": {
          "base_uri": "https://localhost:8080/"
        },
        "id": "3wa2TdtGuFA4",
        "outputId": "6b667e80-9d53-475a-bdfd-e04c50842f46"
      },
      "source": [
        "# 데이터의 shape 확인\n",
        "print(X_train.shape)\n",
        "print(y_train.shape)\n",
        "print(X_test.shape)\n",
        "print(y_test.shape)"
      ],
      "execution_count": 24,
      "outputs": [
        {
          "output_type": "stream",
          "name": "stdout",
          "text": [
            "(16741, 500)\n",
            "(16741,)\n",
            "(7932, 500)\n",
            "(7932,)\n"
          ]
        }
      ]
    },
    {
      "cell_type": "code",
      "metadata": {
        "colab": {
          "base_uri": "https://localhost:8080/"
        },
        "id": "VoRWEjd1uHWc",
        "outputId": "011d3bad-51fd-4059-be8c-1d79b52ed8d9"
      },
      "source": [
        "# 모델 정의\n",
        "import tensorflow as tf\n",
        "from tensorflow.keras.layers import Embedding, Dense, LSTM, RNN, Flatten\n",
        "from tensorflow.keras.models import Sequential\n",
        "from tensorflow.keras.callbacks import EarlyStopping, ModelCheckpoint, ReduceLROnPlateau\n",
        "from keras.regularizers import l2\n",
        "from tensorflow.keras.layers import Dropout\n",
        "\n",
        "gpus = tf.config.experimental.list_physical_devices(device_type='GPU')\n",
        "print(gpus)\n",
        "for gpu in gpus:\n",
        "    tf.config.experimental.set_memory_growth(gpu, True)\n",
        "\n",
        "\n",
        "model = Sequential()\n",
        "model.add(Embedding(input_dim=vocab_size,\n",
        "                    input_length=FIX_LEN,\n",
        "                    output_dim=128,\n",
        "                    mask_zero=True))\n",
        "model.add(Dropout(0.5))\n",
        "model.add(LSTM(128))\n",
        "model.add(Dropout(0.5))\n",
        "model.add(Dense(10, activation='softmax'))\n",
        "\n",
        "\n",
        "model.compile(optimizer='Adam',\n",
        "              loss='sparse_categorical_crossentropy',\n",
        "              metrics=['accuracy']\n",
        ")\n",
        "\n",
        "model.summary()"
      ],
      "execution_count": 25,
      "outputs": [
        {
          "output_type": "stream",
          "name": "stdout",
          "text": [
            "[PhysicalDevice(name='/physical_device:GPU:0', device_type='GPU')]\n",
            "Model: \"sequential\"\n",
            "_________________________________________________________________\n",
            " Layer (type)                Output Shape              Param #   \n",
            "=================================================================\n",
            " embedding (Embedding)       (None, 500, 128)          2208640   \n",
            "                                                                 \n",
            " dropout (Dropout)           (None, 500, 128)          0         \n",
            "                                                                 \n",
            " lstm (LSTM)                 (None, 128)               131584    \n",
            "                                                                 \n",
            " dropout_1 (Dropout)         (None, 128)               0         \n",
            "                                                                 \n",
            " dense (Dense)               (None, 10)                1290      \n",
            "                                                                 \n",
            "=================================================================\n",
            "Total params: 2,341,514\n",
            "Trainable params: 2,341,514\n",
            "Non-trainable params: 0\n",
            "_________________________________________________________________\n"
          ]
        }
      ]
    },
    {
      "cell_type": "code",
      "metadata": {
        "colab": {
          "base_uri": "https://localhost:8080/"
        },
        "id": "ZCB8eUbFuQy-",
        "outputId": "77e515dd-89d6-4bd9-a39f-9a1f7ece429c"
      },
      "source": [
        "# 모델 학습\n",
        "mc = ModelCheckpoint('best_model_balanced_dropout2.h5',\n",
        "                     monitor='val_accuracy',\n",
        "                     mode='max',\n",
        "                     verbose=1,\n",
        "                     save_best_only=True\n",
        ")\n",
        "\n",
        "es = EarlyStopping(monitor='val_loss',\n",
        "                   mode='auto',\n",
        "                   verbose=1,\n",
        "                   patience=5\n",
        ")\n",
        "\n",
        "lrr = ReduceLROnPlateau(monitor='val_accuracy',\n",
        "                        patience=3,\n",
        "                        verbose=1,\n",
        "                        factor=0.25,\n",
        "                        min_lr=0.0000001\n",
        ")\n",
        "\n",
        "history = model.fit(X_train, y_train,\n",
        "                    epochs=20,\n",
        "                    batch_size=100,\n",
        "                    validation_split=0.2,\n",
        "                    callbacks=[mc, es, lrr])"
      ],
      "execution_count": 26,
      "outputs": [
        {
          "output_type": "stream",
          "name": "stdout",
          "text": [
            "Epoch 1/20\n",
            "134/134 [==============================] - ETA: 0s - loss: 2.2774 - accuracy: 0.1389\n",
            "Epoch 00001: val_accuracy improved from -inf to 0.17289, saving model to best_model_balanced_dropout2.h5\n",
            "134/134 [==============================] - 397s 3s/step - loss: 2.2774 - accuracy: 0.1389 - val_loss: 2.2108 - val_accuracy: 0.1729 - lr: 0.0010\n",
            "Epoch 2/20\n",
            "134/134 [==============================] - ETA: 0s - loss: 2.1052 - accuracy: 0.2434\n",
            "Epoch 00002: val_accuracy improved from 0.17289 to 0.23559, saving model to best_model_balanced_dropout2.h5\n",
            "134/134 [==============================] - 380s 3s/step - loss: 2.1052 - accuracy: 0.2434 - val_loss: 2.0797 - val_accuracy: 0.2356 - lr: 0.0010\n",
            "Epoch 3/20\n",
            "134/134 [==============================] - ETA: 0s - loss: 1.9600 - accuracy: 0.2996\n",
            "Epoch 00003: val_accuracy did not improve from 0.23559\n",
            "134/134 [==============================] - 365s 3s/step - loss: 1.9600 - accuracy: 0.2996 - val_loss: 2.1022 - val_accuracy: 0.2314 - lr: 0.0010\n",
            "Epoch 4/20\n",
            "134/134 [==============================] - ETA: 0s - loss: 1.8112 - accuracy: 0.3537\n",
            "Epoch 00004: val_accuracy improved from 0.23559 to 0.24903, saving model to best_model_balanced_dropout2.h5\n",
            "134/134 [==============================] - 374s 3s/step - loss: 1.8112 - accuracy: 0.3537 - val_loss: 2.1012 - val_accuracy: 0.2490 - lr: 0.0010\n",
            "Epoch 5/20\n",
            "134/134 [==============================] - ETA: 0s - loss: 1.6675 - accuracy: 0.4124\n",
            "Epoch 00005: val_accuracy improved from 0.24903 to 0.28247, saving model to best_model_balanced_dropout2.h5\n",
            "134/134 [==============================] - 353s 3s/step - loss: 1.6675 - accuracy: 0.4124 - val_loss: 2.0924 - val_accuracy: 0.2825 - lr: 0.0010\n",
            "Epoch 6/20\n",
            "134/134 [==============================] - ETA: 0s - loss: 1.5103 - accuracy: 0.4821\n",
            "Epoch 00006: val_accuracy did not improve from 0.28247\n",
            "134/134 [==============================] - 362s 3s/step - loss: 1.5103 - accuracy: 0.4821 - val_loss: 2.1939 - val_accuracy: 0.2681 - lr: 0.0010\n",
            "Epoch 7/20\n",
            "134/134 [==============================] - ETA: 0s - loss: 1.3684 - accuracy: 0.5410\n",
            "Epoch 00007: val_accuracy did not improve from 0.28247\n",
            "134/134 [==============================] - 385s 3s/step - loss: 1.3684 - accuracy: 0.5410 - val_loss: 2.2502 - val_accuracy: 0.2595 - lr: 0.0010\n",
            "Epoch 00007: early stopping\n"
          ]
        }
      ]
    },
    {
      "cell_type": "code",
      "metadata": {
        "colab": {
          "base_uri": "https://localhost:8080/",
          "height": 573
        },
        "id": "ZTRlwfZNvPXt",
        "outputId": "c85136f5-17b9-42c1-8b79-7af957847b23"
      },
      "source": [
        "# plot\n",
        "import matplotlib.pyplot as plt\n",
        "\n",
        "plt.plot(history.history['accuracy'])\n",
        "plt.plot(history.history['val_accuracy'])\n",
        "plt.title('accuracy')\n",
        "plt.xlabel('Epoch')\n",
        "plt.legend(['accuracy', 'val_accuracy'], loc='upper left')\n",
        "plt.show()\n",
        "\n",
        "plt.plot(history.history['loss'])\n",
        "plt.plot(history.history['val_loss'])\n",
        "plt.title('loss')\n",
        "plt.xlabel('Epoch')\n",
        "# plt.ylim(0, 1)\n",
        "plt.legend(['loss', 'val_loss'], loc='upper left')\n",
        "plt.show()"
      ],
      "execution_count": 27,
      "outputs": [
        {
          "output_type": "display_data",
          "data": {
            "image/png": "[encoded data removed]",
            "text/plain": [
              "<Figure size 432x288 with 1 Axes>"
            ]
          },
          "metadata": {
            "needs_background": "light"
          }
        },
        {
          "output_type": "display_data",
          "data": {
            "image/png": "[encoded data removed]",
            "text/plain": [
              "<Figure size 432x288 with 1 Axes>"
            ]
          },
          "metadata": {
            "needs_background": "light"
          }
        }
      ]
    },
    {
      "cell_type": "code",
      "metadata": {
        "colab": {
          "base_uri": "https://localhost:8080/"
        },
        "id": "iOUjC-aZvP3S",
        "outputId": "89d7de0f-a4f3-4b72-bea0-6a23a659ac31"
      },
      "source": [
        "# 테스트 데이터로 정확도 측정\n",
        "loaded_model = tf.keras.models.load_model('best_model_balanced_dropout2.h5')\n",
        "loaded_model.evaluate(X_test, y_test, verbose=1)\n",
        "\n",
        "from sklearn.metrics import classification_report\n",
        "\n",
        "y_pred = loaded_model.predict(X_test, batch_size=1000, verbose=1)\n",
        "y_pred_bool = np.argmax(y_pred, axis=1)\n",
        "\n",
        "print(classification_report(y_test, y_pred_bool))"
      ],
      "execution_count": 28,
      "outputs": [
        {
          "output_type": "stream",
          "name": "stdout",
          "text": [
            "248/248 [==============================] - 39s 148ms/step - loss: 2.0670 - accuracy: 0.2828\n",
            "8/8 [==============================] - 4s 291ms/step\n",
            "              precision    recall  f1-score   support\n",
            "\n",
            "           0       0.63      0.72      0.67       960\n",
            "           1       0.11      0.35      0.17       510\n",
            "           2       0.43      0.63      0.51       810\n",
            "           3       0.27      0.08      0.12      1110\n",
            "           4       0.31      0.34      0.32       810\n",
            "           5       0.24      0.29      0.26       659\n",
            "           6       0.26      0.03      0.06      1410\n",
            "           7       0.13      0.26      0.18       509\n",
            "           8       0.17      0.10      0.13       659\n",
            "           9       0.15      0.14      0.15       495\n",
            "\n",
            "    accuracy                           0.28      7932\n",
            "   macro avg       0.27      0.29      0.26      7932\n",
            "weighted avg       0.29      0.28      0.26      7932\n",
            "\n"
          ]
        }
      ]
    }
  ]
}